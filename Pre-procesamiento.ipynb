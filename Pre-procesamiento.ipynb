{
 "cells": [
  {
   "cell_type": "code",
   "execution_count": null,
   "id": "d5b7eed8",
   "metadata": {},
   "outputs": [],
   "source": [
    "import sys\n",
    "sys.path.append('../../../Ecallisto/analisis/pycallisto/src/') \n",
    "import pycallisto as pyc\n",
    "import os\n",
    "import pycallisto_utils as utils"
   ]
  },
  {
   "cell_type": "code",
   "execution_count": null,
   "id": "05a1601a",
   "metadata": {},
   "outputs": [],
   "source": [
    "for file in os.listdir('../Base_datos/SRB/FIT/'):\n",
    "    if(file[0:13]==\"HUMAIN_202207\"):\n",
    "        fit = pyc.PyCallisto.from_file('../Base_datos/SRB/FIT/'+file)\n",
    "        #plot1 = fit.spectrogram(xtick=5, blevel=10)\n",
    "            \n",
    "        background_subtracted = fit.subtract_background()\n",
    "        plt=background_subtracted.spectrogram()\n",
    "        freq_max=int(fit.get_frequencies()[0])\n",
    "        freq_min=int(fit.get_frequencies()[-1])\n",
    "        if freq_min>50:\n",
    "            print(\"La frecuencia mínima de \"+file+\" es mayor a 50MHz\")\n",
    "        if freq_max<160:\n",
    "            print(\"La frecuencia máxima de \"+file+\" es menor a 160MHz\")\n",
    "        #print(\"La frecuencia máxima es \"+str(freq_max) +\" MHz\")\n",
    "        #print(\"La frecuencia mínima es \"+str(freq_min)+ \" MHz\")"
   ]
  }
 ],
 "metadata": {
  "kernelspec": {
   "display_name": "Python 3 (ipykernel)",
   "language": "python",
   "name": "python3"
  },
  "language_info": {
   "codemirror_mode": {
    "name": "ipython",
    "version": 3
   },
   "file_extension": ".py",
   "mimetype": "text/x-python",
   "name": "python",
   "nbconvert_exporter": "python",
   "pygments_lexer": "ipython3",
   "version": "3.9.13"
  }
 },
 "nbformat": 4,
 "nbformat_minor": 5
}
